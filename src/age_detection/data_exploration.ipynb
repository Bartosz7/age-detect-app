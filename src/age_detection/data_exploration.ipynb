{
 "cells": [
  {
   "cell_type": "code",
   "execution_count": 36,
   "metadata": {},
   "outputs": [],
   "source": [
    "import cv2\n",
    "import mediapipe as mp\n",
    "import os\n",
    "\n",
    "\n",
    "def cutout_face(file: str, save_folder: str) -> tuple[int, int, int, int]:\n",
    "    \"\"\"Detect face in an image and return its size (width x height)\"\"\"\n",
    "\n",
    "    # Initialize mediapipe face detection\n",
    "    mp_face_detection = mp.solutions.face_detection\n",
    "    face_detection = mp_face_detection.FaceDetection(min_detection_confidence=0.2)\n",
    "\n",
    "    # Read image\n",
    "    image = cv2.imread(file)\n",
    "    height, width, _ = image.shape\n",
    "\n",
    "    # Convert the BGR image to RGB\n",
    "    image_rgb = cv2.cvtColor(image, cv2.COLOR_BGR2RGB)\n",
    "\n",
    "    # Process image and get the results\n",
    "    results = face_detection.process(image_rgb)\n",
    "\n",
    "    if results.detections and len(results.detections) == 1:\n",
    "        # Assuming the first detection is the most prominent face\n",
    "        face = results.detections[0].location_data.relative_bounding_box\n",
    "        \n",
    "        face = image[\n",
    "            int(face.ymin * height):int((face.ymin+face.height) * height),\n",
    "            int(face.xmin * width):int((face.xmin+face.width) * width),\n",
    "        ]\n",
    "        dir_name = os.path.basename(os.path.dirname(file))\n",
    "        os.makedirs(os.path.join(save_folder, dir_name), exist_ok=True)\n",
    "        cv2.imwrite(os.path.join(save_folder, dir_name, os.path.basename(file)), face)\n"
   ]
  },
  {
   "cell_type": "code",
   "execution_count": 37,
   "metadata": {},
   "outputs": [],
   "source": [
    "cutout_face(\"/home/simonexc/Documents/GitHub/age-detect-app/data/train_data/imdb_crop/00/nm0000100_rm3755520000_1955-1-6_2011.jpg\", \"/home/simonexc/Documents/GitHub/age-detect-app/data/train_data/imdb_fixed\")"
   ]
  },
  {
   "cell_type": "code",
   "execution_count": 19,
   "metadata": {},
   "outputs": [],
   "source": [
    "import scipy\n",
    "data = scipy.io.loadmat(\"/home/simonexc/Documents/GitHub/age-detect-app/data/train_data/imdb/imdb.mat\")"
   ]
  },
  {
   "cell_type": "code",
   "execution_count": 101,
   "metadata": {},
   "outputs": [
    {
     "name": "stderr",
     "output_type": "stream",
     "text": [
      "460723it [00:06, 71221.89it/s]\n"
     ]
    }
   ],
   "source": [
    "from datetime import datetime, timedelta\n",
    "from tqdm import tqdm\n",
    "import numpy as np\n",
    "\n",
    "\n",
    "def datenum_to_datetime(datenum):\n",
    "    \"\"\"\n",
    "    Convert Matlab datenum into Python datetime.\n",
    "    :param datenum: Date in datenum format\n",
    "    :return:        Datetime object corresponding to datenum.\n",
    "    \"\"\"\n",
    "    days = datenum % 1\n",
    "    hours = days % 1 * 24\n",
    "    minutes = hours % 1 * 60\n",
    "    seconds = minutes % 1 * 60\n",
    "    return datetime.fromordinal(int(datenum)) \\\n",
    "           + timedelta(days=int(days)) \\\n",
    "           + timedelta(hours=int(hours)) \\\n",
    "           + timedelta(minutes=int(minutes)) \\\n",
    "           + timedelta(seconds=round(seconds)) \\\n",
    "           - timedelta(days=366)\n",
    "\n",
    "\n",
    "def convert_to_age(datenum, photo_year) -> int:\n",
    "    date_of_birth = datenum_to_datetime(datenum)\n",
    "    photo_year = datetime(year=int(photo_year), month=6, day=1)\n",
    "    return (photo_year - date_of_birth).days // 365\n",
    "\n",
    "filtered_data = []\n",
    "\n",
    "db_folder = \"/home/simonexc/Documents/GitHub/age-detect-app/data/train_data/imdb_fixed\"\n",
    "for date_of_birth, photo_year, name, gender, file_path in tqdm(zip(\n",
    "    data[\"imdb\"][\"dob\"][0][0][0],\n",
    "    data[\"imdb\"][\"photo_taken\"][0][0][0],\n",
    "    data[\"imdb\"][\"name\"][0][0][0],\n",
    "    data[\"imdb\"][\"gender\"][0][0][0],\n",
    "    data[\"imdb\"][\"full_path\"][0][0][0],\n",
    ")):\n",
    "    try:\n",
    "        age = convert_to_age(date_of_birth, photo_year)\n",
    "    except OverflowError:\n",
    "        continue\n",
    "    name = name[0]\n",
    "    file_path = file_path[0]\n",
    "    if gender == 0:\n",
    "        gender = \"female\"\n",
    "    elif gender == 1:\n",
    "        gender = \"male\"\n",
    "    else:\n",
    "        gender = None\n",
    "\n",
    "    if not os.path.exists(os.path.join(db_folder, file_path)):\n",
    "        continue\n",
    "    \n",
    "    filtered_data.append({\n",
    "        \"file_path\": file_path,\n",
    "        \"age\": age,\n",
    "        \"name\": name,\n",
    "        \"gender\": gender,\n",
    "    })\n"
   ]
  },
  {
   "cell_type": "code",
   "execution_count": 85,
   "metadata": {},
   "outputs": [
    {
     "data": {
      "text/plain": [
       "318225"
      ]
     },
     "execution_count": 85,
     "metadata": {},
     "output_type": "execute_result"
    }
   ],
   "source": [
    "len(filtered_data)"
   ]
  },
  {
   "cell_type": "code",
   "execution_count": 102,
   "metadata": {},
   "outputs": [],
   "source": [
    "import pandas as pd\n",
    "\n",
    "df = pd.DataFrame(filtered_data)"
   ]
  },
  {
   "cell_type": "code",
   "execution_count": 103,
   "metadata": {},
   "outputs": [
    {
     "data": {
      "text/html": [
       "<div>\n",
       "<style scoped>\n",
       "    .dataframe tbody tr th:only-of-type {\n",
       "        vertical-align: middle;\n",
       "    }\n",
       "\n",
       "    .dataframe tbody tr th {\n",
       "        vertical-align: top;\n",
       "    }\n",
       "\n",
       "    .dataframe thead th {\n",
       "        text-align: right;\n",
       "    }\n",
       "</style>\n",
       "<table border=\"1\" class=\"dataframe\">\n",
       "  <thead>\n",
       "    <tr style=\"text-align: right;\">\n",
       "      <th></th>\n",
       "      <th>file_path</th>\n",
       "      <th>age</th>\n",
       "      <th>name</th>\n",
       "      <th>gender</th>\n",
       "    </tr>\n",
       "  </thead>\n",
       "  <tbody>\n",
       "    <tr>\n",
       "      <th>0</th>\n",
       "      <td>01/nm0000001_rm124825600_1899-5-10_1968.jpg</td>\n",
       "      <td>69</td>\n",
       "      <td>Fred Astaire</td>\n",
       "      <td>male</td>\n",
       "    </tr>\n",
       "    <tr>\n",
       "      <th>1</th>\n",
       "      <td>01/nm0000001_rm3343756032_1899-5-10_1970.jpg</td>\n",
       "      <td>71</td>\n",
       "      <td>Fred Astaire</td>\n",
       "      <td>male</td>\n",
       "    </tr>\n",
       "    <tr>\n",
       "      <th>2</th>\n",
       "      <td>01/nm0000001_rm577153792_1899-5-10_1968.jpg</td>\n",
       "      <td>69</td>\n",
       "      <td>Fred Astaire</td>\n",
       "      <td>male</td>\n",
       "    </tr>\n",
       "    <tr>\n",
       "      <th>3</th>\n",
       "      <td>01/nm0000001_rm946909184_1899-5-10_1968.jpg</td>\n",
       "      <td>69</td>\n",
       "      <td>Fred Astaire</td>\n",
       "      <td>male</td>\n",
       "    </tr>\n",
       "    <tr>\n",
       "      <th>4</th>\n",
       "      <td>01/nm0000001_rm980463616_1899-5-10_1968.jpg</td>\n",
       "      <td>69</td>\n",
       "      <td>Fred Astaire</td>\n",
       "      <td>male</td>\n",
       "    </tr>\n",
       "    <tr>\n",
       "      <th>5</th>\n",
       "      <td>02/nm0000002_rm1075631616_1924-9-16_1991.jpg</td>\n",
       "      <td>66</td>\n",
       "      <td>Lauren Bacall</td>\n",
       "      <td>female</td>\n",
       "    </tr>\n",
       "    <tr>\n",
       "      <th>6</th>\n",
       "      <td>02/nm0000002_rm1346607872_1924-9-16_2004.jpg</td>\n",
       "      <td>79</td>\n",
       "      <td>Lauren Bacall</td>\n",
       "      <td>female</td>\n",
       "    </tr>\n",
       "    <tr>\n",
       "      <th>7</th>\n",
       "      <td>02/nm0000002_rm1363385088_1924-9-16_2004.jpg</td>\n",
       "      <td>79</td>\n",
       "      <td>Lauren Bacall</td>\n",
       "      <td>female</td>\n",
       "    </tr>\n",
       "    <tr>\n",
       "      <th>8</th>\n",
       "      <td>02/nm0000002_rm1411175936_1924-9-16_1991.jpg</td>\n",
       "      <td>66</td>\n",
       "      <td>Lauren Bacall</td>\n",
       "      <td>female</td>\n",
       "    </tr>\n",
       "    <tr>\n",
       "      <th>9</th>\n",
       "      <td>02/nm0000002_rm1646056960_1924-9-16_1991.jpg</td>\n",
       "      <td>66</td>\n",
       "      <td>Lauren Bacall</td>\n",
       "      <td>female</td>\n",
       "    </tr>\n",
       "  </tbody>\n",
       "</table>\n",
       "</div>"
      ],
      "text/plain": [
       "                                      file_path  age           name  gender\n",
       "0   01/nm0000001_rm124825600_1899-5-10_1968.jpg   69   Fred Astaire    male\n",
       "1  01/nm0000001_rm3343756032_1899-5-10_1970.jpg   71   Fred Astaire    male\n",
       "2   01/nm0000001_rm577153792_1899-5-10_1968.jpg   69   Fred Astaire    male\n",
       "3   01/nm0000001_rm946909184_1899-5-10_1968.jpg   69   Fred Astaire    male\n",
       "4   01/nm0000001_rm980463616_1899-5-10_1968.jpg   69   Fred Astaire    male\n",
       "5  02/nm0000002_rm1075631616_1924-9-16_1991.jpg   66  Lauren Bacall  female\n",
       "6  02/nm0000002_rm1346607872_1924-9-16_2004.jpg   79  Lauren Bacall  female\n",
       "7  02/nm0000002_rm1363385088_1924-9-16_2004.jpg   79  Lauren Bacall  female\n",
       "8  02/nm0000002_rm1411175936_1924-9-16_1991.jpg   66  Lauren Bacall  female\n",
       "9  02/nm0000002_rm1646056960_1924-9-16_1991.jpg   66  Lauren Bacall  female"
      ]
     },
     "execution_count": 103,
     "metadata": {},
     "output_type": "execute_result"
    }
   ],
   "source": [
    "df.head(10)"
   ]
  },
  {
   "cell_type": "code",
   "execution_count": 107,
   "metadata": {},
   "outputs": [
    {
     "data": {
      "text/plain": [
       "<Axes: xlabel='age'>"
      ]
     },
     "execution_count": 107,
     "metadata": {},
     "output_type": "execute_result"
    },
    {
     "data": {
      "image/png": "[encoded data removed]",
      "text/plain": [
       "<Figure size 640x480 with 1 Axes>"
      ]
     },
     "metadata": {},
     "output_type": "display_data"
    }
   ],
   "source": [
    "df[\"age\"].value_counts().sort_index().plot()"
   ]
  },
  {
   "cell_type": "code",
   "execution_count": 108,
   "metadata": {},
   "outputs": [
    {
     "data": {
      "text/plain": [
       "<Axes: xlabel='age'>"
      ]
     },
     "execution_count": 108,
     "metadata": {},
     "output_type": "execute_result"
    },
    {
     "data": {
      "image/png": "[encoded data removed]",
      "text/plain": [
       "<Figure size 640x480 with 1 Axes>"
      ]
     },
     "metadata": {},
     "output_type": "display_data"
    }
   ],
   "source": [
    "df = df[df[\"age\"] < 100]\n",
    "df = df[df[\"age\"] > 5]\n",
    "df[\"age\"].value_counts().sort_index().plot()"
   ]
  },
  {
   "cell_type": "code",
   "execution_count": 109,
   "metadata": {},
   "outputs": [
    {
     "data": {
      "text/plain": [
       "gender\n",
       "male      181946\n",
       "female    130247\n",
       "Name: count, dtype: int64"
      ]
     },
     "execution_count": 109,
     "metadata": {},
     "output_type": "execute_result"
    }
   ],
   "source": [
    "df[\"gender\"].value_counts()"
   ]
  },
  {
   "cell_type": "code",
   "execution_count": 120,
   "metadata": {},
   "outputs": [
    {
     "name": "stdout",
     "output_type": "stream",
     "text": [
      "36.80451262742333\n"
     ]
    },
    {
     "data": {
      "text/plain": [
       "13.149257383643812"
      ]
     },
     "execution_count": 120,
     "metadata": {},
     "output_type": "execute_result"
    }
   ],
   "source": [
    "print(df[\"age\"].mean())\n",
    "df[\"age\"].std()"
   ]
  },
  {
   "cell_type": "code",
   "execution_count": 111,
   "metadata": {},
   "outputs": [],
   "source": [
    "train = df.sample(frac=0.8)\n",
    "df_left = df.drop(train.index)\n",
    "val = df_left.sample(frac=0.5)\n",
    "test = df_left.drop(val.index)\n",
    "\n",
    "train.to_parquet(\"/home/simonexc/Documents/GitHub/age-detect-app/data/train_data/train.parquet\", index=False)\n",
    "val.to_parquet(\"/home/simonexc/Documents/GitHub/age-detect-app/data/train_data/val.parquet\", index=False)\n",
    "test.to_parquet(\"/home/simonexc/Documents/GitHub/age-detect-app/data/train_data/test.parquet\", index=False)"
   ]
  },
  {
   "cell_type": "code",
   "execution_count": 117,
   "metadata": {},
   "outputs": [
    {
     "data": {
      "text/plain": [
       "68"
      ]
     },
     "execution_count": 117,
     "metadata": {},
     "output_type": "execute_result"
    }
   ],
   "source": [
    "df.iloc[0][\"age\"]"
   ]
  },
  {
   "cell_type": "code",
   "execution_count": null,
   "metadata": {},
   "outputs": [],
   "source": []
  }
 ],
 "metadata": {
  "kernelspec": {
   "display_name": ".venv",
   "language": "python",
   "name": "python3"
  },
  "language_info": {
   "codemirror_mode": {
    "name": "ipython",
    "version": 3
   },
   "file_extension": ".py",
   "mimetype": "text/x-python",
   "name": "python",
   "nbconvert_exporter": "python",
   "pygments_lexer": "ipython3",
   "version": "3.11.5"
  }
 },
 "nbformat": 4,
 "nbformat_minor": 2
}
