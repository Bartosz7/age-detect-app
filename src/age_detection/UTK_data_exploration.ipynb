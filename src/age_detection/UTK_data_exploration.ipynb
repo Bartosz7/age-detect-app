{
 "cells": [
  {
   "cell_type": "code",
   "execution_count": 1,
   "id": "500b9425",
   "metadata": {},
   "outputs": [],
   "source": [
    "import os\n",
    "import pandas as pd\n",
    "\n",
    "def extract_age_and_gender(filename):\n",
    "    parts = filename.split('_')\n",
    "    if len(parts) >= 2:\n",
    "        age = int(parts[0])\n",
    "        gender = parts[1]\n",
    "        # Map '0' to 'male' and '1' to 'female'\n",
    "        gender = 'male' if gender == '0' else 'female' if gender == '1' else None\n",
    "        return age, gender\n",
    "    else:\n",
    "        return None, None\n",
    "\n",
    "def create_dataframe_from_photos(folder_path):\n",
    "    data = []\n",
    "\n",
    "    for filename in os.listdir(folder_path):\n",
    "        if filename.endswith(\".jpg\"):\n",
    "            age, gender = extract_age_and_gender(filename)\n",
    "            if age is not None and gender is not None:\n",
    "                data.append([filename, age, gender])\n",
    "\n",
    "    if data:\n",
    "        df = pd.DataFrame(data, columns=[\"file_name\", \"age\", \"gender\"])\n",
    "        return df\n",
    "    else:\n",
    "        return None\n",
    "\n"
   ]
  },
  {
   "cell_type": "code",
   "execution_count": 2,
   "id": "ca699765",
   "metadata": {},
   "outputs": [],
   "source": [
    "folder_path = \"C:/Users/HyperWorks/Downloads/part1\"\n",
    "df1 = create_dataframe_from_photos(folder_path)"
   ]
  },
  {
   "cell_type": "code",
   "execution_count": 3,
   "id": "53aa5d63",
   "metadata": {},
   "outputs": [],
   "source": [
    "folder_path = \"C:/Users/HyperWorks/Downloads/part2\"\n",
    "df2 = create_dataframe_from_photos(folder_path)"
   ]
  },
  {
   "cell_type": "code",
   "execution_count": 4,
   "id": "e05bed48",
   "metadata": {},
   "outputs": [],
   "source": [
    "folder_path = \"C:/Users/HyperWorks/Downloads/part3\"\n",
    "df3 = create_dataframe_from_photos(folder_path)"
   ]
  },
  {
   "cell_type": "code",
   "execution_count": 5,
   "id": "18b97d61",
   "metadata": {},
   "outputs": [
    {
     "data": {
      "text/html": [
       "<div>\n",
       "<style scoped>\n",
       "    .dataframe tbody tr th:only-of-type {\n",
       "        vertical-align: middle;\n",
       "    }\n",
       "\n",
       "    .dataframe tbody tr th {\n",
       "        vertical-align: top;\n",
       "    }\n",
       "\n",
       "    .dataframe thead th {\n",
       "        text-align: right;\n",
       "    }\n",
       "</style>\n",
       "<table border=\"1\" class=\"dataframe\">\n",
       "  <thead>\n",
       "    <tr style=\"text-align: right;\">\n",
       "      <th></th>\n",
       "      <th>file_name</th>\n",
       "      <th>age</th>\n",
       "      <th>gender</th>\n",
       "    </tr>\n",
       "  </thead>\n",
       "  <tbody>\n",
       "    <tr>\n",
       "      <th>0</th>\n",
       "      <td>100_1_0_20170110183726390.jpg</td>\n",
       "      <td>100</td>\n",
       "      <td>female</td>\n",
       "    </tr>\n",
       "    <tr>\n",
       "      <th>1</th>\n",
       "      <td>100_1_2_20170105174847679.jpg</td>\n",
       "      <td>100</td>\n",
       "      <td>female</td>\n",
       "    </tr>\n",
       "    <tr>\n",
       "      <th>2</th>\n",
       "      <td>100_1_2_20170110182836729.jpg</td>\n",
       "      <td>100</td>\n",
       "      <td>female</td>\n",
       "    </tr>\n",
       "    <tr>\n",
       "      <th>3</th>\n",
       "      <td>101_1_2_20170105174739309.jpg</td>\n",
       "      <td>101</td>\n",
       "      <td>female</td>\n",
       "    </tr>\n",
       "    <tr>\n",
       "      <th>4</th>\n",
       "      <td>10_0_0_20161220222308131.jpg</td>\n",
       "      <td>10</td>\n",
       "      <td>male</td>\n",
       "    </tr>\n",
       "    <tr>\n",
       "      <th>...</th>\n",
       "      <td>...</td>\n",
       "      <td>...</td>\n",
       "      <td>...</td>\n",
       "    </tr>\n",
       "    <tr>\n",
       "      <th>10131</th>\n",
       "      <td>9_1_3_20161220222856346.jpg</td>\n",
       "      <td>9</td>\n",
       "      <td>female</td>\n",
       "    </tr>\n",
       "    <tr>\n",
       "      <th>10132</th>\n",
       "      <td>9_1_3_20170104222949455.jpg</td>\n",
       "      <td>9</td>\n",
       "      <td>female</td>\n",
       "    </tr>\n",
       "    <tr>\n",
       "      <th>10133</th>\n",
       "      <td>9_1_4_20170103200637399.jpg</td>\n",
       "      <td>9</td>\n",
       "      <td>female</td>\n",
       "    </tr>\n",
       "    <tr>\n",
       "      <th>10134</th>\n",
       "      <td>9_1_4_20170103200814791.jpg</td>\n",
       "      <td>9</td>\n",
       "      <td>female</td>\n",
       "    </tr>\n",
       "    <tr>\n",
       "      <th>10135</th>\n",
       "      <td>9_1_4_20170103213057382.jpg</td>\n",
       "      <td>9</td>\n",
       "      <td>female</td>\n",
       "    </tr>\n",
       "  </tbody>\n",
       "</table>\n",
       "<p>10136 rows × 3 columns</p>\n",
       "</div>"
      ],
      "text/plain": [
       "                           file_name  age  gender\n",
       "0      100_1_0_20170110183726390.jpg  100  female\n",
       "1      100_1_2_20170105174847679.jpg  100  female\n",
       "2      100_1_2_20170110182836729.jpg  100  female\n",
       "3      101_1_2_20170105174739309.jpg  101  female\n",
       "4       10_0_0_20161220222308131.jpg   10    male\n",
       "...                              ...  ...     ...\n",
       "10131    9_1_3_20161220222856346.jpg    9  female\n",
       "10132    9_1_3_20170104222949455.jpg    9  female\n",
       "10133    9_1_4_20170103200637399.jpg    9  female\n",
       "10134    9_1_4_20170103200814791.jpg    9  female\n",
       "10135    9_1_4_20170103213057382.jpg    9  female\n",
       "\n",
       "[10136 rows x 3 columns]"
      ]
     },
     "execution_count": 5,
     "metadata": {},
     "output_type": "execute_result"
    }
   ],
   "source": [
    "df1"
   ]
  },
  {
   "cell_type": "code",
   "execution_count": 6,
   "id": "3dcdf4cb",
   "metadata": {},
   "outputs": [
    {
     "data": {
      "text/html": [
       "<div>\n",
       "<style scoped>\n",
       "    .dataframe tbody tr th:only-of-type {\n",
       "        vertical-align: middle;\n",
       "    }\n",
       "\n",
       "    .dataframe tbody tr th {\n",
       "        vertical-align: top;\n",
       "    }\n",
       "\n",
       "    .dataframe thead th {\n",
       "        text-align: right;\n",
       "    }\n",
       "</style>\n",
       "<table border=\"1\" class=\"dataframe\">\n",
       "  <thead>\n",
       "    <tr style=\"text-align: right;\">\n",
       "      <th></th>\n",
       "      <th>file_name</th>\n",
       "      <th>age</th>\n",
       "      <th>gender</th>\n",
       "    </tr>\n",
       "  </thead>\n",
       "  <tbody>\n",
       "    <tr>\n",
       "      <th>0</th>\n",
       "      <td>100_0_0_20170112213500903.jpg</td>\n",
       "      <td>100</td>\n",
       "      <td>male</td>\n",
       "    </tr>\n",
       "    <tr>\n",
       "      <th>1</th>\n",
       "      <td>100_0_0_20170112215240346.jpg</td>\n",
       "      <td>100</td>\n",
       "      <td>male</td>\n",
       "    </tr>\n",
       "    <tr>\n",
       "      <th>2</th>\n",
       "      <td>100_1_0_20170112213001988.jpg</td>\n",
       "      <td>100</td>\n",
       "      <td>female</td>\n",
       "    </tr>\n",
       "    <tr>\n",
       "      <th>3</th>\n",
       "      <td>100_1_0_20170112213303693.jpg</td>\n",
       "      <td>100</td>\n",
       "      <td>female</td>\n",
       "    </tr>\n",
       "    <tr>\n",
       "      <th>4</th>\n",
       "      <td>100_1_0_20170112215032192.jpg</td>\n",
       "      <td>100</td>\n",
       "      <td>female</td>\n",
       "    </tr>\n",
       "    <tr>\n",
       "      <th>...</th>\n",
       "      <td>...</td>\n",
       "      <td>...</td>\n",
       "      <td>...</td>\n",
       "    </tr>\n",
       "    <tr>\n",
       "      <th>10713</th>\n",
       "      <td>9_0_1_20170113175830459.jpg</td>\n",
       "      <td>9</td>\n",
       "      <td>male</td>\n",
       "    </tr>\n",
       "    <tr>\n",
       "      <th>10714</th>\n",
       "      <td>9_0_1_20170117195501575.jpg</td>\n",
       "      <td>9</td>\n",
       "      <td>male</td>\n",
       "    </tr>\n",
       "    <tr>\n",
       "      <th>10715</th>\n",
       "      <td>9_1_0_20170117172655681.jpg</td>\n",
       "      <td>9</td>\n",
       "      <td>female</td>\n",
       "    </tr>\n",
       "    <tr>\n",
       "      <th>10716</th>\n",
       "      <td>9_1_0_20170117180006484.jpg</td>\n",
       "      <td>9</td>\n",
       "      <td>female</td>\n",
       "    </tr>\n",
       "    <tr>\n",
       "      <th>10717</th>\n",
       "      <td>9_1_1_20170117105556810.jpg</td>\n",
       "      <td>9</td>\n",
       "      <td>female</td>\n",
       "    </tr>\n",
       "  </tbody>\n",
       "</table>\n",
       "<p>10718 rows × 3 columns</p>\n",
       "</div>"
      ],
      "text/plain": [
       "                           file_name  age  gender\n",
       "0      100_0_0_20170112213500903.jpg  100    male\n",
       "1      100_0_0_20170112215240346.jpg  100    male\n",
       "2      100_1_0_20170112213001988.jpg  100  female\n",
       "3      100_1_0_20170112213303693.jpg  100  female\n",
       "4      100_1_0_20170112215032192.jpg  100  female\n",
       "...                              ...  ...     ...\n",
       "10713    9_0_1_20170113175830459.jpg    9    male\n",
       "10714    9_0_1_20170117195501575.jpg    9    male\n",
       "10715    9_1_0_20170117172655681.jpg    9  female\n",
       "10716    9_1_0_20170117180006484.jpg    9  female\n",
       "10717    9_1_1_20170117105556810.jpg    9  female\n",
       "\n",
       "[10718 rows x 3 columns]"
      ]
     },
     "execution_count": 6,
     "metadata": {},
     "output_type": "execute_result"
    }
   ],
   "source": [
    "df2"
   ]
  },
  {
   "cell_type": "code",
   "execution_count": 7,
   "id": "cff2e67f",
   "metadata": {},
   "outputs": [
    {
     "data": {
      "text/html": [
       "<div>\n",
       "<style scoped>\n",
       "    .dataframe tbody tr th:only-of-type {\n",
       "        vertical-align: middle;\n",
       "    }\n",
       "\n",
       "    .dataframe tbody tr th {\n",
       "        vertical-align: top;\n",
       "    }\n",
       "\n",
       "    .dataframe thead th {\n",
       "        text-align: right;\n",
       "    }\n",
       "</style>\n",
       "<table border=\"1\" class=\"dataframe\">\n",
       "  <thead>\n",
       "    <tr style=\"text-align: right;\">\n",
       "      <th></th>\n",
       "      <th>file_name</th>\n",
       "      <th>age</th>\n",
       "      <th>gender</th>\n",
       "    </tr>\n",
       "  </thead>\n",
       "  <tbody>\n",
       "    <tr>\n",
       "      <th>0</th>\n",
       "      <td>100_1_0_20170119212053665.jpg</td>\n",
       "      <td>100</td>\n",
       "      <td>female</td>\n",
       "    </tr>\n",
       "    <tr>\n",
       "      <th>1</th>\n",
       "      <td>10_0_0_20170116201102149.jpg</td>\n",
       "      <td>10</td>\n",
       "      <td>male</td>\n",
       "    </tr>\n",
       "    <tr>\n",
       "      <th>2</th>\n",
       "      <td>10_0_0_20170120220628194.jpg</td>\n",
       "      <td>10</td>\n",
       "      <td>male</td>\n",
       "    </tr>\n",
       "    <tr>\n",
       "      <th>3</th>\n",
       "      <td>10_0_1_20170116225209209.jpg</td>\n",
       "      <td>10</td>\n",
       "      <td>male</td>\n",
       "    </tr>\n",
       "    <tr>\n",
       "      <th>4</th>\n",
       "      <td>10_1_1_20170116225209209.jpg</td>\n",
       "      <td>10</td>\n",
       "      <td>female</td>\n",
       "    </tr>\n",
       "    <tr>\n",
       "      <th>...</th>\n",
       "      <td>...</td>\n",
       "      <td>...</td>\n",
       "      <td>...</td>\n",
       "    </tr>\n",
       "    <tr>\n",
       "      <th>3245</th>\n",
       "      <td>99_1_0_20170120134718759.jpg</td>\n",
       "      <td>99</td>\n",
       "      <td>female</td>\n",
       "    </tr>\n",
       "    <tr>\n",
       "      <th>3246</th>\n",
       "      <td>99_1_0_20170120221920654.jpg</td>\n",
       "      <td>99</td>\n",
       "      <td>female</td>\n",
       "    </tr>\n",
       "    <tr>\n",
       "      <th>3247</th>\n",
       "      <td>99_1_1_20170120134639935.jpg</td>\n",
       "      <td>99</td>\n",
       "      <td>female</td>\n",
       "    </tr>\n",
       "    <tr>\n",
       "      <th>3248</th>\n",
       "      <td>9_0_0_20170120133313910.jpg</td>\n",
       "      <td>9</td>\n",
       "      <td>male</td>\n",
       "    </tr>\n",
       "    <tr>\n",
       "      <th>3249</th>\n",
       "      <td>9_0_0_20170120133317677.jpg</td>\n",
       "      <td>9</td>\n",
       "      <td>male</td>\n",
       "    </tr>\n",
       "  </tbody>\n",
       "</table>\n",
       "<p>3250 rows × 3 columns</p>\n",
       "</div>"
      ],
      "text/plain": [
       "                          file_name  age  gender\n",
       "0     100_1_0_20170119212053665.jpg  100  female\n",
       "1      10_0_0_20170116201102149.jpg   10    male\n",
       "2      10_0_0_20170120220628194.jpg   10    male\n",
       "3      10_0_1_20170116225209209.jpg   10    male\n",
       "4      10_1_1_20170116225209209.jpg   10  female\n",
       "...                             ...  ...     ...\n",
       "3245   99_1_0_20170120134718759.jpg   99  female\n",
       "3246   99_1_0_20170120221920654.jpg   99  female\n",
       "3247   99_1_1_20170120134639935.jpg   99  female\n",
       "3248    9_0_0_20170120133313910.jpg    9    male\n",
       "3249    9_0_0_20170120133317677.jpg    9    male\n",
       "\n",
       "[3250 rows x 3 columns]"
      ]
     },
     "execution_count": 7,
     "metadata": {},
     "output_type": "execute_result"
    }
   ],
   "source": [
    "df3"
   ]
  },
  {
   "cell_type": "code",
   "execution_count": 8,
   "id": "0d56aa88",
   "metadata": {},
   "outputs": [
    {
     "name": "stdout",
     "output_type": "stream",
     "text": [
      "                           file_name  age  name  gender\n",
      "0      100_1_0_20170110183726390.jpg  100  None  female\n",
      "1      100_1_2_20170105174847679.jpg  100  None  female\n",
      "2      100_1_2_20170110182836729.jpg  100  None  female\n",
      "3      101_1_2_20170105174739309.jpg  101  None  female\n",
      "4       10_0_0_20161220222308131.jpg   10  None    male\n",
      "...                              ...  ...   ...     ...\n",
      "24099   99_1_0_20170120134718759.jpg   99  None  female\n",
      "24100   99_1_0_20170120221920654.jpg   99  None  female\n",
      "24101   99_1_1_20170120134639935.jpg   99  None  female\n",
      "24102    9_0_0_20170120133313910.jpg    9  None    male\n",
      "24103    9_0_0_20170120133317677.jpg    9  None    male\n",
      "\n",
      "[24104 rows x 4 columns]\n"
     ]
    }
   ],
   "source": [
    "import pandas as pd\n",
    "\n",
    "combined_df = pd.concat([df1, df2, df3], axis=0)\n",
    "combined_df.insert(2, 'name', None)\n",
    "\n",
    "# Reset the index if needed\n",
    "combined_df.reset_index(drop=True, inplace=True)\n",
    "\n",
    "print(combined_df)\n"
   ]
  },
  {
   "cell_type": "code",
   "execution_count": 9,
   "id": "73691d17",
   "metadata": {},
   "outputs": [
    {
     "data": {
      "text/plain": [
       "<AxesSubplot:>"
      ]
     },
     "execution_count": 9,
     "metadata": {},
     "output_type": "execute_result"
    },
    {
     "data": {
      "image/png": "[encoded data removed]",
      "text/plain": [
       "<Figure size 640x480 with 1 Axes>"
      ]
     },
     "metadata": {},
     "output_type": "display_data"
    }
   ],
   "source": [
    "combined_df[\"age\"].value_counts().sort_index().plot()"
   ]
  },
  {
   "cell_type": "code",
   "execution_count": 10,
   "id": "f40d3159",
   "metadata": {},
   "outputs": [
    {
     "data": {
      "text/plain": [
       "<AxesSubplot:>"
      ]
     },
     "execution_count": 10,
     "metadata": {},
     "output_type": "execute_result"
    },
    {
     "data": {
      "image/png": "[encoded data removed]",
      "text/plain": [
       "<Figure size 640x480 with 1 Axes>"
      ]
     },
     "metadata": {},
     "output_type": "display_data"
    }
   ],
   "source": [
    "combined_df = combined_df[combined_df[\"age\"] < 100]\n",
    "combined_df = combined_df[combined_df[\"age\"] > 5]\n",
    "combined_df[\"age\"].value_counts().sort_index().plot()"
   ]
  },
  {
   "cell_type": "code",
   "execution_count": null,
   "id": "b2d3127d",
   "metadata": {},
   "outputs": [],
   "source": [
    "!pip install fastparquet"
   ]
  },
  {
   "cell_type": "code",
   "execution_count": null,
   "id": "534a0df0",
   "metadata": {},
   "outputs": [],
   "source": [
    "!pip install pyarrow"
   ]
  },
  {
   "cell_type": "code",
   "execution_count": 15,
   "id": "1990274a",
   "metadata": {},
   "outputs": [],
   "source": [
    "train = combined_df.sample(frac=0.8)\n",
    "df_left = combined_df.drop(train.index)\n",
    "val = df_left.sample(frac=0.5)\n",
    "test = df_left.drop(val.index)\n",
    "\n",
    "train.to_parquet(\"C:/Users/HyperWorks/Desktop/PW/IML/UTK/train.parquet\", index=False)\n",
    "val.to_parquet(\"C:/Users/HyperWorks/Desktop/PW/IML/UTK/val.parquet\", index=False)\n",
    "test.to_parquet(\"C:/Users/HyperWorks/Desktop/PW/IML/UTK/test.parquet\", index=False)"
   ]
  }
 ],
 "metadata": {
  "kernelspec": {
   "display_name": "Python 3 (ipykernel)",
   "language": "python",
   "name": "python3"
  },
  "language_info": {
   "codemirror_mode": {
    "name": "ipython",
    "version": 3
   },
   "file_extension": ".py",
   "mimetype": "text/x-python",
   "name": "python",
   "nbconvert_exporter": "python",
   "pygments_lexer": "ipython3",
   "version": "3.9.13"
  }
 },
 "nbformat": 4,
 "nbformat_minor": 5
}
