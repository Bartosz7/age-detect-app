{
 "cells": [
  {
   "cell_type": "markdown",
   "id": "fc3e88a0",
   "metadata": {},
   "source": [
    "https://github.com/JingchunCheng/All-Age-Faces-Dataset"
   ]
  },
  {
   "cell_type": "code",
   "execution_count": null,
   "id": "4799a7ce",
   "metadata": {},
   "outputs": [],
   "source": [
    "import os\n",
    "import pandas as pd\n",
    "\n",
    "# Function to extract age from the last two digits of the file name\n",
    "def extract_age_from_filename(filename):\n",
    "    try:\n",
    "        age = int(filename[-6:-4])  # Extract the last two digits of the file name\n",
    "        return age\n",
    "    except ValueError:\n",
    "        return None\n",
    "\n",
    "# Path to the folder containing photos\n",
    "folder_path = \"C:/Users/HyperWorks/Downloads/All-Age-Faces_Dataset/\"\n",
    "\n",
    "# Create empty lists to store data\n",
    "file_paths = []\n",
    "ages = []\n",
    "\n",
    "# Iterate through the files in the folder\n",
    "for filename in os.listdir(folder_path):\n",
    "    if filename.endswith(\".jpg\"):\n",
    "        file_paths.append(filename)\n",
    "        age = extract_age_from_filename(filename)\n",
    "        if age is not None:\n",
    "            ages.append(age)\n",
    "        else:\n",
    "            # Handle the case when the age couldn't be extracted\n",
    "            print(f\"Ignoring file with an invalid age format: {filename}\")\n",
    "\n",
    "# Create a DataFrame\n",
    "data = {\n",
    "    \"file_path\": file_paths,\n",
    "    \"age\": ages,\n",
    "}\n",
    "df = pd.DataFrame(data)\n",
    "\n",
    "# Display the DataFrame\n",
    "print(df)\n"
   ]
  },
  {
   "cell_type": "code",
   "execution_count": 16,
   "id": "6b386f4e",
   "metadata": {},
   "outputs": [
    {
     "name": "stdout",
     "output_type": "stream",
     "text": [
      "          file_name  age  name  gender\n",
      "0      00000A02.jpg    2  None  female\n",
      "1      00001A02.jpg    2  None  female\n",
      "2      00002A02.jpg    2  None  female\n",
      "3      00003A02.jpg    2  None  female\n",
      "4      00004A02.jpg    2  None  female\n",
      "...             ...  ...   ...     ...\n",
      "13317  13317A80.jpg   80  None    male\n",
      "13318  13318A80.jpg   80  None    male\n",
      "13319  13319A80.jpg   80  None    male\n",
      "13320  13320A80.jpg   80  None    male\n",
      "13321  13321A80.jpg   80  None    male\n",
      "\n",
      "[13322 rows x 4 columns]\n"
     ]
    }
   ],
   "source": [
    "import os\n",
    "import pandas as pd\n",
    "\n",
    "# Function to extract age from the last two digits of the file name\n",
    "def extract_age_from_filename(filename):\n",
    "    try:\n",
    "        age = int(filename[-6:-4])  # Extract the last two digits of the file name\n",
    "        return age\n",
    "    except ValueError:\n",
    "        return None\n",
    "\n",
    "# Function to determine gender based on serial number\n",
    "def determine_gender(person_id):\n",
    "    if 0 <= person_id <= 7380:\n",
    "        return \"female\"\n",
    "    elif 7381 <= person_id <= 13321:\n",
    "        return \"male\"\n",
    "    else:\n",
    "        return None\n",
    "\n",
    "# Path to the folder containing photos\n",
    "folder_path = \"C:/Users/HyperWorks/Downloads/All-Age-Faces_Dataset/\"\n",
    "\n",
    "# Create empty lists to store data\n",
    "file_names = []\n",
    "ages = []\n",
    "genders = []\n",
    "\n",
    "# Iterate through the files in the folder\n",
    "for filename in os.listdir(folder_path):\n",
    "    if filename.endswith(\".jpg\"):\n",
    "        file_names.append(filename)  # Store only the file name\n",
    "        age = extract_age_from_filename(filename)\n",
    "        person_id = int(filename[:5])  # Extract the first 5 digits as person_id\n",
    "        gender = determine_gender(person_id)\n",
    "        \n",
    "        if age is not None:\n",
    "            ages.append(age)\n",
    "            genders.append(gender)\n",
    "        else:\n",
    "            # Handle the case when the age couldn't be extracted\n",
    "            print(f\"Ignoring file with an invalid age format: {filename}\")\n",
    "\n",
    "# Create a DataFrame\n",
    "data = {\n",
    "    \"file_name\": file_names,\n",
    "    \"age\": ages,\n",
    "    \"gender\": genders,\n",
    "}\n",
    "df = pd.DataFrame(data)\n",
    "df.insert(2, 'name', None)\n",
    "\n",
    "# Display the DataFrame\n",
    "print(df)\n"
   ]
  },
  {
   "cell_type": "code",
   "execution_count": 13,
   "id": "5a33d8d8",
   "metadata": {},
   "outputs": [
    {
     "name": "stdout",
     "output_type": "stream",
     "text": [
      "Number of females: 7381\n"
     ]
    }
   ],
   "source": [
    "# Assuming you already have the DataFrame 'df' with a 'gender' column\n",
    "female_count = df[df['gender'] == 'female'].shape[0]\n",
    "\n",
    "print(\"Number of females:\", female_count)\n"
   ]
  },
  {
   "cell_type": "code",
   "execution_count": 14,
   "id": "e5a6888f",
   "metadata": {},
   "outputs": [
    {
     "data": {
      "text/html": [
       "<div>\n",
       "<style scoped>\n",
       "    .dataframe tbody tr th:only-of-type {\n",
       "        vertical-align: middle;\n",
       "    }\n",
       "\n",
       "    .dataframe tbody tr th {\n",
       "        vertical-align: top;\n",
       "    }\n",
       "\n",
       "    .dataframe thead th {\n",
       "        text-align: right;\n",
       "    }\n",
       "</style>\n",
       "<table border=\"1\" class=\"dataframe\">\n",
       "  <thead>\n",
       "    <tr style=\"text-align: right;\">\n",
       "      <th></th>\n",
       "      <th>file_name</th>\n",
       "      <th>age</th>\n",
       "      <th>gender</th>\n",
       "    </tr>\n",
       "  </thead>\n",
       "  <tbody>\n",
       "    <tr>\n",
       "      <th>0</th>\n",
       "      <td>00000A02.jpg</td>\n",
       "      <td>2</td>\n",
       "      <td>female</td>\n",
       "    </tr>\n",
       "    <tr>\n",
       "      <th>1</th>\n",
       "      <td>00001A02.jpg</td>\n",
       "      <td>2</td>\n",
       "      <td>female</td>\n",
       "    </tr>\n",
       "    <tr>\n",
       "      <th>2</th>\n",
       "      <td>00002A02.jpg</td>\n",
       "      <td>2</td>\n",
       "      <td>female</td>\n",
       "    </tr>\n",
       "    <tr>\n",
       "      <th>3</th>\n",
       "      <td>00003A02.jpg</td>\n",
       "      <td>2</td>\n",
       "      <td>female</td>\n",
       "    </tr>\n",
       "    <tr>\n",
       "      <th>4</th>\n",
       "      <td>00004A02.jpg</td>\n",
       "      <td>2</td>\n",
       "      <td>female</td>\n",
       "    </tr>\n",
       "    <tr>\n",
       "      <th>...</th>\n",
       "      <td>...</td>\n",
       "      <td>...</td>\n",
       "      <td>...</td>\n",
       "    </tr>\n",
       "    <tr>\n",
       "      <th>13317</th>\n",
       "      <td>13317A80.jpg</td>\n",
       "      <td>80</td>\n",
       "      <td>male</td>\n",
       "    </tr>\n",
       "    <tr>\n",
       "      <th>13318</th>\n",
       "      <td>13318A80.jpg</td>\n",
       "      <td>80</td>\n",
       "      <td>male</td>\n",
       "    </tr>\n",
       "    <tr>\n",
       "      <th>13319</th>\n",
       "      <td>13319A80.jpg</td>\n",
       "      <td>80</td>\n",
       "      <td>male</td>\n",
       "    </tr>\n",
       "    <tr>\n",
       "      <th>13320</th>\n",
       "      <td>13320A80.jpg</td>\n",
       "      <td>80</td>\n",
       "      <td>male</td>\n",
       "    </tr>\n",
       "    <tr>\n",
       "      <th>13321</th>\n",
       "      <td>13321A80.jpg</td>\n",
       "      <td>80</td>\n",
       "      <td>male</td>\n",
       "    </tr>\n",
       "  </tbody>\n",
       "</table>\n",
       "<p>13322 rows × 3 columns</p>\n",
       "</div>"
      ],
      "text/plain": [
       "          file_name  age  gender\n",
       "0      00000A02.jpg    2  female\n",
       "1      00001A02.jpg    2  female\n",
       "2      00002A02.jpg    2  female\n",
       "3      00003A02.jpg    2  female\n",
       "4      00004A02.jpg    2  female\n",
       "...             ...  ...     ...\n",
       "13317  13317A80.jpg   80    male\n",
       "13318  13318A80.jpg   80    male\n",
       "13319  13319A80.jpg   80    male\n",
       "13320  13320A80.jpg   80    male\n",
       "13321  13321A80.jpg   80    male\n",
       "\n",
       "[13322 rows x 3 columns]"
      ]
     },
     "execution_count": 14,
     "metadata": {},
     "output_type": "execute_result"
    }
   ],
   "source": [
    "df"
   ]
  },
  {
   "cell_type": "code",
   "execution_count": 1,
   "id": "bbf8de16",
   "metadata": {},
   "outputs": [
    {
     "name": "stdout",
     "output_type": "stream",
     "text": [
      "Collecting fastparquet\n",
      "  Using cached fastparquet-2023.10.1-cp39-cp39-win_amd64.whl (667 kB)\n",
      "Requirement already satisfied: packaging in d:\\anaconda\\lib\\site-packages (from fastparquet) (21.3)\n",
      "Requirement already satisfied: fsspec in d:\\anaconda\\lib\\site-packages (from fastparquet) (2022.7.1)\n",
      "Requirement already satisfied: pandas>=1.5.0 in d:\\anaconda\\lib\\site-packages (from fastparquet) (2.1.3)\n",
      "Requirement already satisfied: numpy>=1.20.3 in d:\\anaconda\\lib\\site-packages (from fastparquet) (1.26.1)\n",
      "Requirement already satisfied: cramjam>=2.3 in d:\\anaconda\\lib\\site-packages (from fastparquet) (2.7.0)\n",
      "Requirement already satisfied: python-dateutil>=2.8.2 in d:\\anaconda\\lib\\site-packages (from pandas>=1.5.0->fastparquet) (2.8.2)\n",
      "Requirement already satisfied: pytz>=2020.1 in d:\\anaconda\\lib\\site-packages (from pandas>=1.5.0->fastparquet) (2022.1)\n",
      "Requirement already satisfied: tzdata>=2022.1 in d:\\anaconda\\lib\\site-packages (from pandas>=1.5.0->fastparquet) (2023.3)\n",
      "Requirement already satisfied: pyparsing!=3.0.5,>=2.0.2 in d:\\anaconda\\lib\\site-packages (from packaging->fastparquet) (3.0.9)\n",
      "Requirement already satisfied: six>=1.5 in d:\\anaconda\\lib\\site-packages (from python-dateutil>=2.8.2->pandas>=1.5.0->fastparquet) (1.16.0)\n",
      "Installing collected packages: fastparquet\n",
      "Successfully installed fastparquet-2023.10.1\n"
     ]
    }
   ],
   "source": [
    "!pip install fastparquet"
   ]
  },
  {
   "cell_type": "code",
   "execution_count": 2,
   "id": "cf579f50",
   "metadata": {},
   "outputs": [
    {
     "name": "stdout",
     "output_type": "stream",
     "text": [
      "Requirement already satisfied: pyarrow in d:\\anaconda\\lib\\site-packages (14.0.1)\n",
      "Requirement already satisfied: numpy>=1.16.6 in d:\\anaconda\\lib\\site-packages (from pyarrow) (1.26.1)\n"
     ]
    }
   ],
   "source": [
    "!pip install pyarrow"
   ]
  },
  {
   "cell_type": "code",
   "execution_count": null,
   "id": "72b36736",
   "metadata": {},
   "outputs": [],
   "source": [
    "train = df.sample(frac=0.8)\n",
    "df_left = df.drop(train.index)\n",
    "val = df_left.sample(frac=0.5)\n",
    "test = df_left.drop(val.index)\n",
    "\n",
    "train.to_parquet(\"C:/Users/HyperWorks/Desktop/PW/IML/UTK/train.parquet\", index=False)\n",
    "val.to_parquet(\"C:/Users/HyperWorks/Desktop/PW/IML/UTK/val.parquet\", index=False)\n",
    "test.to_parquet(\"C:/Users/HyperWorks/Desktop/PW/IML/UTK/test.parquet\", index=False)"
   ]
  }
 ],
 "metadata": {
  "kernelspec": {
   "display_name": "Python 3 (ipykernel)",
   "language": "python",
   "name": "python3"
  },
  "language_info": {
   "codemirror_mode": {
    "name": "ipython",
    "version": 3
   },
   "file_extension": ".py",
   "mimetype": "text/x-python",
   "name": "python",
   "nbconvert_exporter": "python",
   "pygments_lexer": "ipython3",
   "version": "3.9.13"
  }
 },
 "nbformat": 4,
 "nbformat_minor": 5
}
