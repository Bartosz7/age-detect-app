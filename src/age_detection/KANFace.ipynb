{
 "cells": [
  {
   "cell_type": "code",
   "execution_count": 1,
   "id": "1ff13029",
   "metadata": {},
   "outputs": [
    {
     "name": "stdout",
     "output_type": "stream",
     "text": [
      "                               file_path  age\n",
      "0              0000_12_002278_002396.png   12\n",
      "1              0000_12_002820_002912.png   12\n",
      "2      0000_14_007330_008421 — kopia.png   14\n",
      "3              0000_14_007330_008421.png   14\n",
      "4              0000_14_014229_014330.png   14\n",
      "...                                  ...  ...\n",
      "38720          1044_36_004373_004581.png   36\n",
      "38721          1044_36_004679_004830.png   36\n",
      "38722          1044_36_004946_005054.png   36\n",
      "38723          1044_36_007854_008074.png   36\n",
      "38724          1044_36_008215_008707.png   36\n",
      "\n",
      "[38725 rows x 2 columns]\n"
     ]
    }
   ],
   "source": [
    "import os\n",
    "import pandas as pd\n",
    "import re\n",
    "\n",
    "# Define a function to extract age from file names using regular expressions\n",
    "def extract_age_from_filename(filename):\n",
    "    pattern = r'\\_(\\d{2})_'\n",
    "    match = re.search(pattern, filename)\n",
    "    if match:\n",
    "        age = int(match.group(1))\n",
    "        return age\n",
    "    return None\n",
    "\n",
    "# Specify the folder containing the photos\n",
    "folder_path = 'C:/Users/HyperWorks/Downloads/images'\n",
    "\n",
    "# Initialize lists to store file paths and ages\n",
    "file_paths = []\n",
    "ages = []\n",
    "\n",
    "# Iterate through the files in the folder\n",
    "for filename in os.listdir(folder_path):\n",
    "    if filename.endswith('.png'):  # Check if the file is a PNG file\n",
    "        age = extract_age_from_filename(filename)\n",
    "        if age is not None:\n",
    "            file_paths.append(filename)\n",
    "            ages.append(age)\n",
    "\n",
    "# Create a DataFrame from the collected data\n",
    "data = {'file_path': file_paths, 'age': ages}\n",
    "df = pd.DataFrame(data)\n",
    "\n",
    "# Display the DataFrame\n",
    "print(df)\n"
   ]
  },
  {
   "cell_type": "code",
   "execution_count": 2,
   "id": "077dd9c0",
   "metadata": {},
   "outputs": [],
   "source": [
    "df.insert(2, 'name', None)"
   ]
  },
  {
   "cell_type": "code",
   "execution_count": 3,
   "id": "98cecc9d",
   "metadata": {},
   "outputs": [],
   "source": [
    "df.insert(3, 'gender', None)"
   ]
  },
  {
   "cell_type": "code",
   "execution_count": 4,
   "id": "850957d0",
   "metadata": {},
   "outputs": [
    {
     "data": {
      "text/html": [
       "<div>\n",
       "<style scoped>\n",
       "    .dataframe tbody tr th:only-of-type {\n",
       "        vertical-align: middle;\n",
       "    }\n",
       "\n",
       "    .dataframe tbody tr th {\n",
       "        vertical-align: top;\n",
       "    }\n",
       "\n",
       "    .dataframe thead th {\n",
       "        text-align: right;\n",
       "    }\n",
       "</style>\n",
       "<table border=\"1\" class=\"dataframe\">\n",
       "  <thead>\n",
       "    <tr style=\"text-align: right;\">\n",
       "      <th></th>\n",
       "      <th>file_path</th>\n",
       "      <th>age</th>\n",
       "      <th>name</th>\n",
       "      <th>gender</th>\n",
       "    </tr>\n",
       "  </thead>\n",
       "  <tbody>\n",
       "    <tr>\n",
       "      <th>0</th>\n",
       "      <td>0000_12_002278_002396.png</td>\n",
       "      <td>12</td>\n",
       "      <td>None</td>\n",
       "      <td>None</td>\n",
       "    </tr>\n",
       "    <tr>\n",
       "      <th>1</th>\n",
       "      <td>0000_12_002820_002912.png</td>\n",
       "      <td>12</td>\n",
       "      <td>None</td>\n",
       "      <td>None</td>\n",
       "    </tr>\n",
       "    <tr>\n",
       "      <th>2</th>\n",
       "      <td>0000_14_007330_008421 — kopia.png</td>\n",
       "      <td>14</td>\n",
       "      <td>None</td>\n",
       "      <td>None</td>\n",
       "    </tr>\n",
       "    <tr>\n",
       "      <th>3</th>\n",
       "      <td>0000_14_007330_008421.png</td>\n",
       "      <td>14</td>\n",
       "      <td>None</td>\n",
       "      <td>None</td>\n",
       "    </tr>\n",
       "    <tr>\n",
       "      <th>4</th>\n",
       "      <td>0000_14_014229_014330.png</td>\n",
       "      <td>14</td>\n",
       "      <td>None</td>\n",
       "      <td>None</td>\n",
       "    </tr>\n",
       "    <tr>\n",
       "      <th>...</th>\n",
       "      <td>...</td>\n",
       "      <td>...</td>\n",
       "      <td>...</td>\n",
       "      <td>...</td>\n",
       "    </tr>\n",
       "    <tr>\n",
       "      <th>38720</th>\n",
       "      <td>1044_36_004373_004581.png</td>\n",
       "      <td>36</td>\n",
       "      <td>None</td>\n",
       "      <td>None</td>\n",
       "    </tr>\n",
       "    <tr>\n",
       "      <th>38721</th>\n",
       "      <td>1044_36_004679_004830.png</td>\n",
       "      <td>36</td>\n",
       "      <td>None</td>\n",
       "      <td>None</td>\n",
       "    </tr>\n",
       "    <tr>\n",
       "      <th>38722</th>\n",
       "      <td>1044_36_004946_005054.png</td>\n",
       "      <td>36</td>\n",
       "      <td>None</td>\n",
       "      <td>None</td>\n",
       "    </tr>\n",
       "    <tr>\n",
       "      <th>38723</th>\n",
       "      <td>1044_36_007854_008074.png</td>\n",
       "      <td>36</td>\n",
       "      <td>None</td>\n",
       "      <td>None</td>\n",
       "    </tr>\n",
       "    <tr>\n",
       "      <th>38724</th>\n",
       "      <td>1044_36_008215_008707.png</td>\n",
       "      <td>36</td>\n",
       "      <td>None</td>\n",
       "      <td>None</td>\n",
       "    </tr>\n",
       "  </tbody>\n",
       "</table>\n",
       "<p>38725 rows × 4 columns</p>\n",
       "</div>"
      ],
      "text/plain": [
       "                               file_path  age  name gender\n",
       "0              0000_12_002278_002396.png   12  None   None\n",
       "1              0000_12_002820_002912.png   12  None   None\n",
       "2      0000_14_007330_008421 — kopia.png   14  None   None\n",
       "3              0000_14_007330_008421.png   14  None   None\n",
       "4              0000_14_014229_014330.png   14  None   None\n",
       "...                                  ...  ...   ...    ...\n",
       "38720          1044_36_004373_004581.png   36  None   None\n",
       "38721          1044_36_004679_004830.png   36  None   None\n",
       "38722          1044_36_004946_005054.png   36  None   None\n",
       "38723          1044_36_007854_008074.png   36  None   None\n",
       "38724          1044_36_008215_008707.png   36  None   None\n",
       "\n",
       "[38725 rows x 4 columns]"
      ]
     },
     "execution_count": 4,
     "metadata": {},
     "output_type": "execute_result"
    }
   ],
   "source": [
    "df"
   ]
  },
  {
   "cell_type": "code",
   "execution_count": 5,
   "id": "f7fba4b9",
   "metadata": {},
   "outputs": [
    {
     "name": "stdout",
     "output_type": "stream",
     "text": [
      "Collecting fastparquet\n",
      "  Using cached fastparquet-2023.10.1-cp39-cp39-win_amd64.whl (667 kB)\n",
      "Collecting pandas>=1.5.0\n",
      "  Using cached pandas-2.1.3-cp39-cp39-win_amd64.whl (10.8 MB)\n",
      "Collecting cramjam>=2.3\n",
      "  Using cached cramjam-2.7.0-cp39-none-win_amd64.whl (1.3 MB)\n",
      "Requirement already satisfied: fsspec in d:\\anaconda\\lib\\site-packages (from fastparquet) (2022.7.1)\n",
      "Requirement already satisfied: packaging in d:\\anaconda\\lib\\site-packages (from fastparquet) (21.3)\n",
      "Requirement already satisfied: numpy>=1.20.3 in d:\\anaconda\\lib\\site-packages (from fastparquet) (1.26.1)\n",
      "Requirement already satisfied: tzdata>=2022.1 in d:\\anaconda\\lib\\site-packages (from pandas>=1.5.0->fastparquet) (2023.3)\n",
      "Requirement already satisfied: python-dateutil>=2.8.2 in d:\\anaconda\\lib\\site-packages (from pandas>=1.5.0->fastparquet) (2.8.2)\n",
      "Requirement already satisfied: pytz>=2020.1 in d:\\anaconda\\lib\\site-packages (from pandas>=1.5.0->fastparquet) (2022.1)\n",
      "Requirement already satisfied: pyparsing!=3.0.5,>=2.0.2 in d:\\anaconda\\lib\\site-packages (from packaging->fastparquet) (3.0.9)\n",
      "Requirement already satisfied: six>=1.5 in d:\\anaconda\\lib\\site-packages (from python-dateutil>=2.8.2->pandas>=1.5.0->fastparquet) (1.16.0)\n",
      "Installing collected packages: cramjam, pandas, fastparquet\n",
      "  Attempting uninstall: pandas\n",
      "    Found existing installation: pandas 1.4.4\n",
      "    Uninstalling pandas-1.4.4:\n",
      "      Successfully uninstalled pandas-1.4.4\n"
     ]
    },
    {
     "name": "stderr",
     "output_type": "stream",
     "text": [
      "ERROR: Could not install packages due to an OSError: [WinError 5] Odmowa dostępu: 'D:\\\\Anaconda\\\\Lib\\\\site-packages\\\\~andas\\\\_libs\\\\algos.cp39-win_amd64.pyd'\n",
      "Consider using the `--user` option or check the permissions.\n",
      "\n"
     ]
    }
   ],
   "source": [
    "!pip install fastparquet"
   ]
  },
  {
   "cell_type": "code",
   "execution_count": 6,
   "id": "de95656d",
   "metadata": {},
   "outputs": [
    {
     "name": "stdout",
     "output_type": "stream",
     "text": [
      "Requirement already satisfied: pyarrow in d:\\anaconda\\lib\\site-packages (14.0.1)\n",
      "Requirement already satisfied: numpy>=1.16.6 in d:\\anaconda\\lib\\site-packages (from pyarrow) (1.26.1)\n"
     ]
    }
   ],
   "source": [
    "!pip install pyarrow"
   ]
  },
  {
   "cell_type": "code",
   "execution_count": null,
   "id": "7eeccf6c",
   "metadata": {},
   "outputs": [],
   "source": [
    "train = df.sample(frac=0.8)\n",
    "df_left = df.drop(train.index)\n",
    "val = df_left.sample(frac=0.5)\n",
    "test = df_left.drop(val.index)\n",
    "\n",
    "train.to_parquet(\"C:/Users/HyperWorks/Desktop/PW/IML/UTK/train.parquet\", index=False)\n",
    "val.to_parquet(\"C:/Users/HyperWorks/Desktop/PW/IML/UTK/val.parquet\", index=False)\n",
    "test.to_parquet(\"C:/Users/HyperWorks/Desktop/PW/IML/UTK/test.parquet\", index=False)"
   ]
  }
 ],
 "metadata": {
  "kernelspec": {
   "display_name": "Python 3 (ipykernel)",
   "language": "python",
   "name": "python3"
  },
  "language_info": {
   "codemirror_mode": {
    "name": "ipython",
    "version": 3
   },
   "file_extension": ".py",
   "mimetype": "text/x-python",
   "name": "python",
   "nbconvert_exporter": "python",
   "pygments_lexer": "ipython3",
   "version": "3.9.13"
  }
 },
 "nbformat": 4,
 "nbformat_minor": 5
}
